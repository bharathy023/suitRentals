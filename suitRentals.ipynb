{
 "cells": [
  {
   "cell_type": "code",
   "execution_count": 7,
   "metadata": {
    "scrolled": true
   },
   "outputs": [
    {
     "data": {
      "image/png": "[encoded data removed]",
      "text/plain": [
       "<Figure size 432x288 with 1 Axes>"
      ]
     },
     "metadata": {
      "needs_background": "light"
     },
     "output_type": "display_data"
    }
   ],
   "source": [
    "# -*- coding: utf-8 -*-\n",
    "\"\"\"\n",
    "Created on Sat Feb  9 11:37:18 2019\n",
    "\n",
    "@author: Bharathy\n",
    "\"\"\"\n",
    "\n",
    "from pulp import *\n",
    "import pandas as pd\n",
    "import matplotlib.pyplot as plt\n",
    "\n",
    "demand = pd.read_csv('demand.csv', header =0, index_col =['days'])\n",
    "stock = pd.read_csv('inventory.csv', header =0, index_col=['Suit'])\n",
    "\n",
    "days = demand.index\n",
    "\n",
    "suits = stock.index\n",
    "\n",
    "launderService = {'fast':{'Lead Time': 2,\n",
    "                           'Cost':12},\n",
    "                  'slow':{'Lead Time': 4,\n",
    "                          'Cost':9}        \n",
    "                  }\n",
    "\n",
    "service = launderService.keys()\n",
    "borrowCost = 15\n",
    "\n",
    "#problem variable\n",
    "prob = LpProblem('Minimize cost', LpMinimize)\n",
    "\n",
    "\n",
    "#Variables\n",
    "b = LpVariable.dicts('Borrowed Suits',((s,d) for s in suits for d in days),0, None, LpInteger)\n",
    "l = LpVariable.dicts('laundry service', ((s,se,d) for s in suits for se in service for d in days))\n",
    "i = LpVariable.dicts('Inventory at end of day d', ((s,d) for s in suits for d in days),0, None, LpInteger)\n",
    "il = LpVariable.dicts('Suits sent to laundry at end of day d', ((s,d) for s in suits for d in days),0, None, LpInteger)\n",
    "\n",
    "#objective function\n",
    "prob +=  lpSum(borrowCost * b[s,d] for s in suits for d in days)\\\n",
    "        + lpSum(l[s,se,d]*launderService[se]['Cost'] \\\n",
    "                for s in suits for se in service for d in days)\n",
    "\n",
    "\n",
    "#constraints\n",
    "for d in days:\n",
    "    for s in suits:\n",
    "       if d > 2: \n",
    "           prob += lpSum(l[s,se,d] for se in service) + b[s,d] + i[s,d-1]\\\n",
    "                                                    == demand.loc[d,s] + i[s,d]\n",
    "       if d==1:\n",
    "           prob += b[s,d] + stock.loc[s] == demand.loc[d,s] + i[s,d]\n",
    "       if d==2:\n",
    "           prob += b[s,d] + i[s,d-1] == demand.loc[d,s] + i[s,d]\n",
    "        \n",
    "for d in days:\n",
    "    for s in suits:\n",
    "        prob +=  il[s,d] ==demand.loc[d,s]\n",
    "        if d > 2:\n",
    "            prob += l[s,'fast',d] <= il[s,d-2]\n",
    "        if d > 4:\n",
    "            prob += l[s,'slow',d] <= il[s,d-4]\n",
    "        if d == 3:\n",
    "            prob += l[s,'slow',d] ==0\n",
    "        if d ==2:\n",
    "            prob += l[s,'fast',d] ==0\n",
    "        \n",
    "prob.solve()\n",
    "\n",
    "#display borrowed suits from nearby branch\n",
    "borrow= {}\n",
    "for d in days:\n",
    "    for s in suits:\n",
    "        borrow[s,d] = b[s,d].value()\n",
    "                       \n",
    "#split dictionary to list to create scatterplot\n",
    "borrow_values = [i for i in borrow.values()]\n",
    "\n",
    "#find indexes with value zero\n",
    "delete_index=[]\n",
    "for x in range(0,len(borrow_values)):\n",
    "    if borrow_values[x] ==0:\n",
    "        delete_index.append(x)\n",
    "\n",
    "for i in sorted(delete_index, reverse= True):\n",
    "    del borrow_values[i]\n",
    "\n",
    "\n",
    "borrow_keys = [i for i in borrow]\n",
    "\n",
    "for i in sorted(delete_index, reverse= True):\n",
    "    del borrow_keys[i]\n",
    "    \n",
    "borrow_suits,borrow_days = zip(*borrow_keys)\n",
    "\n",
    "plt.scatter(borrow_suits,borrow_days)\n",
    "for i,s in enumerate(borrow_values):\n",
    "    plt.annotate(s, (borrow_suits[i],borrow_days[i]))\n",
    "\n",
    "plt.xticks(rotation=90)\n",
    "plt.yticks(range(0,6))\n",
    "plt.yticks(fontsize=7)\n",
    "plt.xlabel('Suit')\n",
    "plt.ylabel('Day')\n",
    "plt.title('Number of Borrowed Suits') \n",
    "\n",
    "plt.show() \n",
    "\n",
    "\n"
   ]
  },
  {
   "cell_type": "markdown",
   "metadata": {},
   "source": [
    "# "
   ]
  }
 ],
 "metadata": {
  "kernelspec": {
   "display_name": "Python 3",
   "language": "python",
   "name": "python3"
  },
  "language_info": {
   "codemirror_mode": {
    "name": "ipython",
    "version": 3
   },
   "file_extension": ".py",
   "mimetype": "text/x-python",
   "name": "python",
   "nbconvert_exporter": "python",
   "pygments_lexer": "ipython3",
   "version": "3.7.0"
  }
 },
 "nbformat": 4,
 "nbformat_minor": 2
}
